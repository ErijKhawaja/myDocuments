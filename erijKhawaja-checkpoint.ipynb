{
 "cells": [
  {
   "cell_type": "markdown",
   "id": "340870c5-6d43-433f-9030-e1284753fe9c",
   "metadata": {
    "panel-layout": {
     "height": 93.8438,
     "visible": true,
     "width": 100
    }
   },
   "source": [
    "# **ERIJ KHAWAJA**\n",
    "\n",
    "##### 123 B, ABC Street, XYZ Town, Lahore | +92 123 4567890 | erijkhawaja27@gmail.com\n",
    "---"
   ]
  },
  {
   "cell_type": "markdown",
   "id": "fd812511-a6e1-42e0-bd50-a2c30a30f330",
   "metadata": {
    "panel-layout": {
     "height": 85.4219,
     "visible": true,
     "width": 100
    }
   },
   "source": [
    "> I seek to obtain a position in your organization. I have worked as a GIS Analyst at a geospatial engineering \n",
    "consultancy, The Spatio. My role there included digitizing and mapping data for two of their projects. I \n",
    "was also responsible for managing the data-bases for these two projects.\n"
   ]
  },
  {
   "cell_type": "markdown",
   "id": "6235e5d7-1983-4853-b29b-644ab587df92",
   "metadata": {
    "panel-layout": {
     "height": 142.672,
     "visible": true,
     "width": 100
    }
   },
   "source": [
    "## EXPERIENCE\n",
    "> **01-07-2022 – 31-08-2022**\n",
    "> \n",
    "> **INTERN, THE SPATIO**\n",
    "> \n",
    ">  Digitization and mapping of Floating Solar System of Keenjhar Lake Project and Asrit Kadam Hydropower Project.\n"
   ]
  },
  {
   "cell_type": "markdown",
   "id": "87081070-97f9-473f-b88d-338e7d852b3e",
   "metadata": {
    "panel-layout": {
     "height": 290.703,
     "visible": true,
     "width": 100
    }
   },
   "source": [
    "# EDUCATION\n",
    "> **JULY 20, 2016**\n",
    "> **METRICULATION**, ALLIED SCHOOL\n",
    ">\n",
    "> I passed my matriculation with A+ grade on full scholarship.\n",
    ">\n",
    "> **SEPTEMBER 12, 2018**\n",
    "> **INTERMEDIATE**, PUNJAB GROUP OF COLLEGES\n",
    ">\n",
    "> I passed F. Sc (pre-engineering) with A grade on full scholarship.\n",
    ">\n",
    "> **JULY 21, 2022**\n",
    "> **BS HONS. SPACE SCIENCE**, UNIVERSITY OF THE PUNJAB\n",
    ">\n",
    "> I completed BS (Hons.) with A grade and a 3.51 CGPA.\n"
   ]
  },
  {
   "cell_type": "markdown",
   "id": "0bb250d0-ba32-404e-a391-398696d396b5",
   "metadata": {
    "panel-layout": {
     "height": 249.562,
     "visible": true,
     "width": 100
    }
   },
   "source": [
    "# COURSES\n",
    "> **JUNE 10, 2020**\n",
    "> CARTOGRAPHY, ESRI\n",
    ">\n",
    "> **SEPTEMBER 29, 2021**\n",
    "> IMAGERY IN ACTION, ESRI\n",
    ">\n",
    "> **OCTOBER 9, 2023**\n",
    "> SPATIAL DATA SCIENCE: THE NEW FRONTIER IN ANALYTICS, ESRI\n",
    ">\n",
    "> **NOVEMBER 23, 2023**\n",
    "> BIG DATA ANALYSIS FOR WATER RELATED APPLICATIONS, UNITED NATIONS UNIVERSITY"
   ]
  },
  {
   "cell_type": "markdown",
   "id": "cf18b599-63d1-4241-b937-ba561c6ff559",
   "metadata": {
    "panel-layout": {
     "height": 299.266,
     "visible": true,
     "width": 100
    }
   },
   "source": [
    "# SKILLS\n",
    "- Remote Sensing Tools (ERDAS Imagine, ENVI)\n",
    "- GIS Tools (ArcMap and catalogue, ArcGIS Pro, ArcGIS Online, GPS essential, Google Earth Pro, Global Mapper)\n",
    "- Python \n",
    "- R Studio\n",
    "- Google Earth\n",
    "- Google Earth Engine \n",
    "- Microsoft Office 360 (Word, Excel, \n",
    "PowerPoint)\n",
    "- Communication (verbal and written)\n",
    "- Creative Thinking \n",
    "- Ability to adapt and learn"
   ]
  },
  {
   "cell_type": "code",
   "execution_count": null,
   "id": "1b879783-0126-451e-8549-1b8025262262",
   "metadata": {},
   "outputs": [],
   "source": []
  },
  {
   "cell_type": "markdown",
   "id": "95ba2822-48af-4392-acea-9a6fac7a2461",
   "metadata": {},
   "source": []
  }
 ],
 "metadata": {
  "kernelspec": {
   "display_name": "Python 3 (ipykernel)",
   "language": "python",
   "name": "python3"
  },
  "language_info": {
   "codemirror_mode": {
    "name": "ipython",
    "version": 3
   },
   "file_extension": ".py",
   "mimetype": "text/x-python",
   "name": "python",
   "nbconvert_exporter": "python",
   "pygments_lexer": "ipython3",
   "version": "3.12.7"
  },
  "panel-cell-order": [
   "340870c5-6d43-433f-9030-e1284753fe9c",
   "fd812511-a6e1-42e0-bd50-a2c30a30f330",
   "6235e5d7-1983-4853-b29b-644ab587df92",
   "87081070-97f9-473f-b88d-338e7d852b3e",
   "0bb250d0-ba32-404e-a391-398696d396b5",
   "cf18b599-63d1-4241-b937-ba561c6ff559"
  ]
 },
 "nbformat": 4,
 "nbformat_minor": 5
}
